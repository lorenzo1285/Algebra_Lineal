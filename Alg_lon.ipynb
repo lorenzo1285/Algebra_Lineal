{
  "nbformat": 4,
  "nbformat_minor": 0,
  "metadata": {
    "colab": {
      "name": "Alg_lon.ipynb",
      "provenance": [],
      "authorship_tag": "ABX9TyN+ceFIb5L6nT1U5Ge5G5IA",
      "include_colab_link": true
    },
    "kernelspec": {
      "name": "python3",
      "display_name": "Python 3"
    },
    "language_info": {
      "name": "python"
    }
  },
  "cells": [
    {
      "cell_type": "markdown",
      "metadata": {
        "id": "view-in-github",
        "colab_type": "text"
      },
      "source": [
        "<a href=\"https://colab.research.google.com/github/lorenzo1285/Algebra_lineal/blob/main/Alg_lon.ipynb\" target=\"_parent\"><img src=\"https://colab.research.google.com/assets/colab-badge.svg\" alt=\"Open In Colab\"/></a>"
      ]
    },
    {
      "cell_type": "code",
      "source": [
        "import numpy as np"
      ],
      "metadata": {
        "id": "ySwxXt-SJAvy"
      },
      "execution_count": null,
      "outputs": []
    },
    {
      "cell_type": "markdown",
      "source": [
        "En los ejercicios a) al g), \n",
        "\n",
        "𝑢⃗ = (−1,3,4, −2), \n",
        "\n",
        "𝑣 = (−2,5,3,2) \n",
        "\n",
        "y 𝑤⃗ = (1,0,4, −2)\n"
      ],
      "metadata": {
        "id": "7Trookg6ej0W"
      }
    },
    {
      "cell_type": "code",
      "source": [
        "u = np.array([-1,3,4,-2])\n",
        "v = np.array([-2,5,3,2])\n",
        "w = np.array([1,0,4,-2])"
      ],
      "metadata": {
        "id": "jrdcWuLOejFf"
      },
      "execution_count": null,
      "outputs": []
    },
    {
      "cell_type": "code",
      "source": [
        "# a) Calcular 3𝑢⃗ -4𝑣 \n",
        "3*u -4*v\n"
      ],
      "metadata": {
        "colab": {
          "base_uri": "https://localhost:8080/"
        },
        "id": "IbXNVqj4fdKG",
        "outputId": "b758d605-0878-404c-f875-7f43b6acbc84"
      },
      "execution_count": null,
      "outputs": [
        {
          "output_type": "execute_result",
          "data": {
            "text/plain": [
              "array([  5, -11,   0, -14])"
            ]
          },
          "metadata": {},
          "execution_count": 3
        }
      ]
    },
    {
      "cell_type": "code",
      "source": [
        "# b) Encontrar 𝑢⃗ + 1/2 w\n",
        "\n",
        "u + (.5*w)"
      ],
      "metadata": {
        "colab": {
          "base_uri": "https://localhost:8080/"
        },
        "id": "u1ai4OKqfnZe",
        "outputId": "582057e8-0e4e-4565-b33f-c693e254120c"
      },
      "execution_count": null,
      "outputs": [
        {
          "output_type": "execute_result",
          "data": {
            "text/plain": [
              "array([-0.5,  3. ,  6. , -3. ])"
            ]
          },
          "metadata": {},
          "execution_count": 4
        }
      ]
    },
    {
      "cell_type": "code",
      "source": [
        "# c) Hallar ‖𝑣 ‖\n",
        "np.linalg.norm(v)"
      ],
      "metadata": {
        "colab": {
          "base_uri": "https://localhost:8080/"
        },
        "id": "14bRsTIcgFjD",
        "outputId": "599dfd7e-8af3-403d-8a6b-e9d66a3c1bb3"
      },
      "execution_count": null,
      "outputs": [
        {
          "output_type": "execute_result",
          "data": {
            "text/plain": [
              "6.48074069840786"
            ]
          },
          "metadata": {},
          "execution_count": 5
        }
      ]
    },
    {
      "cell_type": "code",
      "source": [
        "# d) Calcular 𝑑(𝑢⃗ , 𝑤⃗ )\n",
        "np.linalg.norm(u-w)"
      ],
      "metadata": {
        "colab": {
          "base_uri": "https://localhost:8080/"
        },
        "id": "cLfHGB8OlHR3",
        "outputId": "ed24bffb-f82c-4cb7-b42f-3bef79117598"
      },
      "execution_count": null,
      "outputs": [
        {
          "output_type": "execute_result",
          "data": {
            "text/plain": [
              "3.605551275463989"
            ]
          },
          "metadata": {},
          "execution_count": 6
        }
      ]
    },
    {
      "cell_type": "code",
      "source": [
        "# e) Hallar 4𝑢⃗ − 2𝑣 − w\n",
        "4*u -2*v -w"
      ],
      "metadata": {
        "colab": {
          "base_uri": "https://localhost:8080/"
        },
        "id": "N27hQUnxlxDl",
        "outputId": "5b32af33-f7f5-462b-e6c4-8af18a95a11e"
      },
      "execution_count": null,
      "outputs": [
        {
          "output_type": "execute_result",
          "data": {
            "text/plain": [
              "array([ -1,   2,   6, -10])"
            ]
          },
          "metadata": {},
          "execution_count": 7
        }
      ]
    },
    {
      "cell_type": "code",
      "source": [
        "# f) Calcular 𝑢⃗ ∙ (𝑣 + 𝑤⃗ )\n",
        "u * (v+w)"
      ],
      "metadata": {
        "colab": {
          "base_uri": "https://localhost:8080/"
        },
        "id": "HFHAY9tNnC7W",
        "outputId": "c319e5d7-2e87-4d40-9590-8789874b5722"
      },
      "execution_count": null,
      "outputs": [
        {
          "output_type": "execute_result",
          "data": {
            "text/plain": [
              "array([ 1, 15, 28,  0])"
            ]
          },
          "metadata": {},
          "execution_count": 8
        }
      ]
    },
    {
      "cell_type": "code",
      "source": [
        "# g) Encontrar el valor de b tal que (−1, 𝑏, 1, −2) ⊥ 𝑢⃗ , es decir, para que estos\n",
        "#    vectores sean ortogonales.\n",
        "\n",
        "# (−1, 𝑏, 1, −2) * (−2,5,3,2)\n",
        "# 2 +5b +3 -4 = 0\n",
        "# 5b + 1 = 0\n",
        "# 5b = -1\n",
        "# b = -1/5\n"
      ],
      "metadata": {
        "id": "HBNfeVz_n3Ih"
      },
      "execution_count": null,
      "outputs": []
    },
    {
      "cell_type": "markdown",
      "source": [
        "2. Calcula el volumen de la “caja” construida sobre los tres vectores siguientes:\n",
        "𝑎⃗⃗1 = (1,1,2), 𝑎⃗⃗⃗⃗2 = (3, 1,0), 𝑎⃗⃗⃗⃗3 = (−2, 0,3)\n"
      ],
      "metadata": {
        "id": "vFwBedrBsm_X"
      }
    },
    {
      "cell_type": "code",
      "source": [
        "a = np.array([[1,1,2],\n",
        "             [3,1,0],\n",
        "             [-2,0,3]])\n",
        "\n",
        "np.linalg.det(a).round(5)"
      ],
      "metadata": {
        "colab": {
          "base_uri": "https://localhost:8080/"
        },
        "id": "DHAGVoQxsjTy",
        "outputId": "8a34b125-674f-4a62-a53b-fe5fb5843c90"
      },
      "execution_count": null,
      "outputs": [
        {
          "output_type": "execute_result",
          "data": {
            "text/plain": [
              "-2.0"
            ]
          },
          "metadata": {},
          "execution_count": 10
        }
      ]
    },
    {
      "cell_type": "code",
      "source": [
        "a_1 = np.array([[1,3,-2],\n",
        "                [1,1,0],\n",
        "                [2,0,3]])\n",
        "np.linalg.det(a_1)"
      ],
      "metadata": {
        "colab": {
          "base_uri": "https://localhost:8080/"
        },
        "id": "5AVch6v7etpT",
        "outputId": "d315d243-97e3-48b3-ddcf-002f3b426cb9"
      },
      "execution_count": null,
      "outputs": [
        {
          "output_type": "execute_result",
          "data": {
            "text/plain": [
              "-2.0000000000000004"
            ]
          },
          "metadata": {},
          "execution_count": 11
        }
      ]
    },
    {
      "cell_type": "markdown",
      "source": [
        "3. Determina si 𝑏⃗ es combinación lineal de 𝑎⃗⃗1 , 𝑎⃗⃗⃗⃗2 𝑦 𝑎⃗⃗⃗⃗3 .\n",
        "\n",
        "𝑏⃗ = (2, −1,6); 𝑎⃗⃗1 = (1, −2,0), 𝑎⃗⃗⃗⃗2 = (0, 1, 2), 𝑎⃗⃗⃗⃗3 = (5, −6, 8)\n",
        "\n",
        "𝑏⃗ = (11, −5,9); 𝑎⃗⃗1 = (1,0,1), 𝑎⃗⃗⃗⃗2 = (−2, 3, −2), 𝑎⃗⃗⃗⃗3 = (−6, 7, 5)\n"
      ],
      "metadata": {
        "id": "hQaVAUZjxK4t"
      }
    },
    {
      "cell_type": "code",
      "source": [
        "b_1 = np.array([[2],\n",
        "               [-1],\n",
        "               [ 6]])\n",
        "\n",
        "a_1 = np.array([[1,0, 5],\n",
        "               [-2,1,-6],\n",
        "               [ 0,2, 8]])\n",
        "\n",
        "b_2 = np.array([[11],\n",
        "                [-5],\n",
        "                [9]])\n",
        "\n",
        "a_2 = np.array([[1,-2,-6],\n",
        "                [0, 3, 7],\n",
        "                [1,-2, 5]])"
      ],
      "metadata": {
        "id": "dXzCRwZBxZWj"
      },
      "execution_count": null,
      "outputs": []
    },
    {
      "cell_type": "code",
      "source": [
        " # primer sistema tiene soluciones infinitas \n",
        "np.linalg.det(a_1)"
      ],
      "metadata": {
        "colab": {
          "base_uri": "https://localhost:8080/"
        },
        "id": "1p7Wpdxy6zPm",
        "outputId": "b7fe9913-78d9-48e4-f9b8-14275e7bd39f"
      },
      "execution_count": null,
      "outputs": [
        {
          "output_type": "execute_result",
          "data": {
            "text/plain": [
              "0.0"
            ]
          },
          "metadata": {},
          "execution_count": 16
        }
      ]
    },
    {
      "cell_type": "code",
      "source": [
        "np.linalg.solve(a_2, b_2)"
      ],
      "metadata": {
        "colab": {
          "base_uri": "https://localhost:8080/"
        },
        "id": "jh6Hp46xzWoQ",
        "outputId": "74b0e89a-423a-4aea-d7b0-2f88b711d55d"
      },
      "execution_count": null,
      "outputs": [
        {
          "output_type": "execute_result",
          "data": {
            "text/plain": [
              "array([[ 7.42424242],\n",
              "       [-1.24242424],\n",
              "       [-0.18181818]])"
            ]
          },
          "metadata": {},
          "execution_count": 13
        }
      ]
    }
  ]
}