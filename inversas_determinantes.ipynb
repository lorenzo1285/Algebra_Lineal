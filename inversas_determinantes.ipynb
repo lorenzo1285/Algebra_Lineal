{
  "nbformat": 4,
  "nbformat_minor": 0,
  "metadata": {
    "colab": {
      "name": "inversas_determinantes.ipynb",
      "provenance": [],
      "authorship_tag": "ABX9TyNKO+PSEO70K0IvcHFMNCFY",
      "include_colab_link": true
    },
    "kernelspec": {
      "name": "python3",
      "display_name": "Python 3"
    },
    "language_info": {
      "name": "python"
    }
  },
  "cells": [
    {
      "cell_type": "markdown",
      "metadata": {
        "id": "view-in-github",
        "colab_type": "text"
      },
      "source": [
        "<a href=\"https://colab.research.google.com/github/lorenzo1285/Algebra_lineal/blob/main/inversas_determinantes.ipynb\" target=\"_parent\"><img src=\"https://colab.research.google.com/assets/colab-badge.svg\" alt=\"Open In Colab\"/></a>"
      ]
    },
    {
      "cell_type": "code",
      "execution_count": null,
      "metadata": {
        "id": "dGw24NFMBtJ0"
      },
      "outputs": [],
      "source": [
        "import numpy as np "
      ]
    },
    {
      "cell_type": "markdown",
      "source": [
        "1. Utiliza determinantes para establecer cuáles de las siguientes matrices son\n",
        "invertibles:\n",
        "\n"
      ],
      "metadata": {
        "id": "tL6Yxt3NLBYU"
      }
    },
    {
      "cell_type": "markdown",
      "source": [
        "![imagen_2022-03-30_125408.png](data:image/png;base64,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)"
      ],
      "metadata": {
        "id": "fIPV7fGWLXuo"
      }
    },
    {
      "cell_type": "code",
      "source": [
        "a = np.array([[0,1,2],\n",
        "              [1,0,3],\n",
        "              [4,-3,8]])\n",
        "\n",
        "print('Resultado:')\n",
        "np.linalg.det(a)"
      ],
      "metadata": {
        "colab": {
          "base_uri": "https://localhost:8080/"
        },
        "id": "RQVG30tMKXPo",
        "outputId": "7c140869-8f6c-4e0b-f635-d9660fbe9230"
      },
      "execution_count": null,
      "outputs": [
        {
          "output_type": "stream",
          "name": "stdout",
          "text": [
            "Resultado:\n"
          ]
        },
        {
          "output_type": "execute_result",
          "data": {
            "text/plain": [
              "-2.0"
            ]
          },
          "metadata": {},
          "execution_count": 21
        }
      ]
    },
    {
      "cell_type": "markdown",
      "source": [
        "![imagen_2022-03-30_125651.png](data:image/png;base64,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)"
      ],
      "metadata": {
        "id": "3pa4YS2TL8AN"
      }
    },
    {
      "cell_type": "code",
      "source": [
        "b = np.array([[4,-9],\n",
        "              [0,5]])\n",
        "\n",
        "print('Resultado:')\n",
        "round(np.linalg.det(b), 5)"
      ],
      "metadata": {
        "colab": {
          "base_uri": "https://localhost:8080/"
        },
        "id": "pR2oX3gJMBmE",
        "outputId": "8835a41a-ae23-4b75-d24d-bd4986f79e4f"
      },
      "execution_count": null,
      "outputs": [
        {
          "output_type": "stream",
          "name": "stdout",
          "text": [
            "Resultado:\n"
          ]
        },
        {
          "output_type": "execute_result",
          "data": {
            "text/plain": [
              "20.0"
            ]
          },
          "metadata": {},
          "execution_count": 23
        }
      ]
    },
    {
      "cell_type": "markdown",
      "source": [
        "![imagen_2022-03-30_125916.png](data:image/png;base64,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)"
      ],
      "metadata": {
        "id": "MA_A3J5iMfz-"
      }
    },
    {
      "cell_type": "code",
      "source": [
        "c = np.array([[1,0,0],\n",
        "              [0,1,0],\n",
        "              [-4,0,1]])\n",
        "\n",
        "print('Resultado:')\n",
        "np.linalg.det(c)"
      ],
      "metadata": {
        "colab": {
          "base_uri": "https://localhost:8080/"
        },
        "id": "t_39Hxj_MfZm",
        "outputId": "ec93cc3f-709e-4200-dec4-f1bac5afa62c"
      },
      "execution_count": null,
      "outputs": [
        {
          "output_type": "stream",
          "name": "stdout",
          "text": [
            "Resultado:\n"
          ]
        },
        {
          "output_type": "execute_result",
          "data": {
            "text/plain": [
              "1.0"
            ]
          },
          "metadata": {},
          "execution_count": 30
        }
      ]
    },
    {
      "cell_type": "markdown",
      "source": [
        "2. Calcula los determinantes de las siguientes matrices elementales:\n"
      ],
      "metadata": {
        "id": "qIhCEo4mNBIm"
      }
    },
    {
      "cell_type": "markdown",
      "source": [
        "![imagen_2022-03-30_130222.png](data:image/png;base64,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)"
      ],
      "metadata": {
        "id": "DlBMvcFkNCoL"
      }
    },
    {
      "cell_type": "markdown",
      "source": [
        "[1,0,0]       \n",
        "            \n",
        "[0,1,0]        \n",
        "\n",
        "[0,k,0]\n",
        "\n",
        "[1,0,0]\n",
        "\n",
        "[0,1,0]\n",
        "\n",
        "(0+0+0)-(0+0+0) = 0\n",
        "\n",
        "Matriz no Invertible\n",
        "\n"
      ],
      "metadata": {
        "id": "WswoYAx8SszW"
      }
    },
    {
      "cell_type": "markdown",
      "source": [
        "![image.png](data:image/png;base64,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)"
      ],
      "metadata": {
        "id": "s9KuFBSsVB2f"
      }
    },
    {
      "cell_type": "code",
      "source": [
        "B = np.array([[5,-7,2,2],\n",
        "              [0,3,0,-4],\n",
        "              [-5,-8,0,3],\n",
        "              [0,5,0,-6]])\n",
        "\n",
        "print('Resultado:')\n",
        "round(np.linalg.det(B), 5)"
      ],
      "metadata": {
        "colab": {
          "base_uri": "https://localhost:8080/"
        },
        "id": "p46e3mauX8xL",
        "outputId": "34ae7b44-52ee-4030-e525-92095d3e37f3"
      },
      "execution_count": null,
      "outputs": [
        {
          "output_type": "stream",
          "name": "stdout",
          "text": [
            "Resultado:\n"
          ]
        },
        {
          "output_type": "execute_result",
          "data": {
            "text/plain": [
              "20.0"
            ]
          },
          "metadata": {},
          "execution_count": 24
        }
      ]
    },
    {
      "cell_type": "markdown",
      "source": [
        "![image.png](data:image/png;base64,iVBORw0KGgoAAAANSUhEUgAAAHQAAAA3CAYAAADdVm7lAAAKl0lEQVR4nO2ce1SU1RqHnxkGEEQRyAuoiGhAEnIRb6iFLK1A1FyhaAsvKZWWiqkcMvOYSkfyWCppHm/neIlVx9TyRlqpFOIVSfBGogtEAYn7fYZmZp8/PCEUCMI3MCHPWvPHfGv2ft9v/759eb9375EJIQRttBoUMTExLe1DGxIia+uhrQt5SztQH5VFWWRkl6JuJnva8hzS0+6Sr9Q2k0VpaXFBC3b4097Iin4j/fDz82fm5qQH4mnS2DdvJM9NeY/lb3rz7POhHMnUVSNryYheQeAIT7yDlhCxMpihtva8GB5LoY4sPholJ1a8jJ+fH75DemNmZMec71UNKypamPxtvsLYcIBYefW3alc14s7WMaKLxzKRoBJCqFPFxlHmwiZon8jTiRcqERfmLpxnHxX5Qggh1CJlzXBhbOIjItM1OrHYUCqOzhLWhj3EG8eUDfp9i/fQWtGk8dWeGKxG+eFsBBjYMnaMG3nR+zhRoguDRnhFJHB1sx8WABjQw7EP5ppiCot1ucRQkp+Vh7Lqu5rCzLvkKR9RpB70U1DVz1y6qsa6py0KAOR06WuPRelNrqc1x2xayZVzCZTYe+PT10A3JtTJbJs6AjcnO54PT0StzeH7MC962/myNqnx96iQ0EXJ0BZnk1MGpu07VD1xcvOOmFFMQYHuFyuV1zYStlPOnKilDDPWjQ31rUQMZhzllFsAbvuOEGt7k3+WhHEq3oku/Rovi14KikaNBpDJZQ+vKQxRIEOu4zFFm3Oc0KlbsFh1iNUjO+nMjsIpkJlOoO4wDLtVm1n47RI+3/XKgymmKfVK4560yM3M6aAQlJYUo8UMOSAqyqmQWWBlpaMhEECZxIagEK5NjuLgLEea2LYNQvHMszgAltOCmywm6OscauKAQ08Z99LSquLPinsZ5Fv0w6WXrgQt5OSSGey0W0vUYk/aA5Rkk12qI3MAlHJu/dfcMi/kxtV7aCSoUT8FNfJg7Eu2pJ/6jhtqgEJiTsRj5T+Rkaa6MVkWG07IflumB3Qi5cxpTv94mDXTfHnvZBOWnHVSzv3MbG5GzSO8aBZrA3tx/XQseQVn2B+d1jRhdRxG1UvtcagQmuxosXiQrXANXCJWLPATHsMXi+j7uooJc8XuCZ2EHATVP4o+Yn6MSnpzxV+IiZbtRLeRq8WFUiEqTswVfdp3Fy7DA0VkYs1483HjUL0VVAghhKZQpMafFqcT0kRxy8b30qLMEJfjEkVGlUYV4l7iOXHt/p8fnscVVC8XRVXIzbEbMAy7lvZDaoxtcPWyqXahHd37D6a7BFXr5xzaRqNpE7SV0SZoK6MeQSspykojLSOfv2h68ImjdkG1BVzYHMxITx+mhS1ngb8jnbqMZn2yFKHv46ClPCedtLst/UBVUnQ/nczCSp3VX5BfghS3WIugZVz40B//DYK5B2I4uHsXB6LD8THtQs+eOnztVh1tBtErAhnh6U3QkghWBg/F1v5FwmObN92szTzGysDnGDJqBu+Gr2Cmlz39Jm7kUpl0NpSp0Xw40R3H1/YhSWbwj3GM6uIy4W76tHj7h+KHFzWFIjU5XZQ2Juaqh1rjUFWcCHN3FrOPPkg3C3WKWDPcWJj4RIrmzDer4sKEu/tCEVPyuxtrxDDjjmLcf35teuXqOyJ65XQx/pXJwtvWQBiP31Vr+zYxDi3iyIatJHssZq93h4eX5ebYOZrX/kRoC7gVf537lXUngmVG3ejn2ReLhi7BjLyISLj68LtBDxz7mKO5VohO881/ciOChIRqblj3oJuRioJSCYZemRHd/T7gv8u6cCDgCOfUMmT1l6qXmoKW/MCB44V4hE6gd0NHV3UKhz5ZxbH8umcAueVLrNy9kEGNzSZUXuFcQgn2L/qgq3xz/Wi4s/crzpqP46Nx1k2vTt6N/gMAypteVzVqCFqZGMfFol74e/Wkwe1mNIiFXx5joaRu1fCKaxvD2CmfQ9TSYego31w32mzO7/2Sw8f3802KK+tOfMQkW/2N9moKmpbKPVkv+vbVlzeCWnKOhzJ1iwWrDq1GinyzOunfLN4QS1GdA4oc8xEhrJ/Zv8oHrbwDNs8MwiF+D6Fzu9D1y6U8b6mfotZQTmi1CEwwbV/N2ZJkYpM74jXQpvZeq/qe+W5T+Dz7EUNu1yC+uBzJ6MfsXsqkDQSFXGNy1EFmOUqTbpZ3dsZ7tAkVdc7FMkzsO1crYM3QSTMZCsye5kqASzAh6/y4vGqAJP5ITQ1BTVxccZB9w81kNXgqgAJiPniVUNNtnB1oU3sNxqOJvJFLpNSeFZ5kyYyd2K39jsWe7QEoyc5G1rUrZk2oVm49mJcnD25c2c6DGNgXfkpLB/RT0BrjhsL1LcLfMGT3zEm8s2wpb48dyvjN+XgMeaaZ96qUERsewn7b6QR0SuHM6dP8eHgN03zfQyf55jpQRi9gyJTtpP3+PqX8F1LuGtPf01VCKyoqlGpEeRmlUrxZqCVAEgW348VPMbHi/OUUkV3RtHCrPmqNQ3N3iwmd5DWTzSAUfeYLXeSb60L5wyLh3MlKuAb+TXy4+u/idR9n4fbqFpEkSZuoRPy2eWL6eE9hYygTMqPuYkjALBGy9UKNX7WuBLc+oMoTt3+OEzE/nRVXM3TxauXRtK4Etz5gZIm9mxf2Le1HA9HPtXcbjaZN0FZGm6CtjDZBWxl6LqgWZUEm6Rn5lDd3bv0vit6ucksTd/DOO9tJs3bDqd0dYmN/pf+i7Wx+0+3BMYVmQJ0UwQtjIvnjRg25+Vg2XdjC+A61l2tJ9FPQyrOsejWEnwPiOLPCFSO03N8TgMvsuXzm/SOhjs2TQ9PkZZBrPYZ35/nQWQEgyPk2nHVGY/HRQzFBTwXV3IvjzO32uAz4/QSYnM6DB/O05hOu//IbNJOgCrsJrN46kDFu/1ev8iLvf2xK0JaXkEZPJflZZZhaW9EOeHCCOwuNZU+s2jWuRr2cQw2setHDrITU21lVB3d+u3uHLENHnnUybD4/evs8FBPIO7ievZ1nEewuQT94kk5wYz6eZRFjmbAqiLna1xnWMZ2jOy7itXY7cxxaaMuC5gbbPz2P16JN9JKgGzxZJ7hRYNHTCfuuuaAqo6Qgl5z8fMjMpVQLpk1o0MdPcD+g9GQkO4om8rmvNKe6n6gT3OTtZcG0jZisTWbz1AfJ5qmulbiMe4uPXrjCx8Maf9ePneAG0KYTte4wtsGxDJD4WLfUJ7j1UtDKXy6RWPQUY+wf7jQ083DHQbaLW7dU0BRBG5HgVl34jE1XvFke1bvhe60axMMT3B2u3kPj26fJ9evlokhh78TT7TJJTMis2k1efu06qQbOeLiZNK8z2hy+XrcHzZS38beQqlLdneBu8R5q2N2DUSPjORM6Dj/kdBv7D7bOmcraT88wednLTLozEU+zDE59fRa3iG0scm1elzWpe/jXCQeCzw+SbsdhySHmu7xGrOtyDh32xeV8NJafvc+occN5fdMuDFByYsVkPj5fCUKLi89z9HuqYX1Xv/+NszyL60m3yJNZ0tfFGWsd/b9Cs6PKJPFSLp0H9MfGGEBJRlIiRV3d6de1aROpfgvaxmOjl3NoG42nTdBWRpugrYw2QVsZbYK2Mv4HTHtJlY7qsqQAAAAASUVORK5CYII=)"
      ],
      "metadata": {
        "id": "HiwbczK0Y7nY"
      }
    },
    {
      "cell_type": "markdown",
      "source": [
        "[0,2,x]\n",
        "\n",
        "[2,-3,1]\n",
        "\n",
        "[8,-7,x]\n",
        "\n",
        "[0,2,x]\n",
        "\n",
        "[2,-3,1]\n",
        "\n",
        "(0 -14x +16)-(-24x +0 +4x)\n",
        "\n",
        "(-14x +16 +24x -4x)\n",
        "\n",
        "16 +6x = 0\n",
        "\n",
        "x = -16/6\n",
        "\n",
        "x = -2.66\n",
        "\n"
      ],
      "metadata": {
        "id": "sVLhdcGoY_BM"
      }
    },
    {
      "cell_type": "code",
      "source": [
        "C = np.array([[0,2,-2.66],\n",
        "              [2,-3,1],\n",
        "              [8,-7,-2.66]])\n",
        "\n",
        "print('Resultado:')\n",
        "round(np.linalg.det(C),5)"
      ],
      "metadata": {
        "colab": {
          "base_uri": "https://localhost:8080/"
        },
        "id": "2xRD0bfrY9D_",
        "outputId": "0c32e5e1-0c9e-4045-cd27-48171fac9620"
      },
      "execution_count": null,
      "outputs": [
        {
          "output_type": "stream",
          "name": "stdout",
          "text": [
            "Resultado:\n"
          ]
        },
        {
          "output_type": "execute_result",
          "data": {
            "text/plain": [
              "0.04"
            ]
          },
          "metadata": {},
          "execution_count": 25
        }
      ]
    },
    {
      "cell_type": "markdown",
      "source": [
        "3. Calcula las inversas de las siguientes matrices (puedes utilizar cualquier\n",
        "método):\n"
      ],
      "metadata": {
        "id": "unerN1YueIMr"
      }
    },
    {
      "cell_type": "markdown",
      "source": [
        "![image.png](data:image/png;base64,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)"
      ],
      "metadata": {
        "id": "xFmCdWYReKVz"
      }
    },
    {
      "cell_type": "code",
      "source": [
        "A_1 = np.array([[2,1,-2],\n",
        "               [2,8,-2],\n",
        "               [4,-1,3]])\n",
        "\n",
        "print('Resultado:')\n",
        "np.linalg.inv(A_1)"
      ],
      "metadata": {
        "colab": {
          "base_uri": "https://localhost:8080/"
        },
        "id": "LVbzejCpeH6B",
        "outputId": "c35c3756-9602-41e1-e2e8-bca047b98916"
      },
      "execution_count": null,
      "outputs": [
        {
          "output_type": "stream",
          "name": "stdout",
          "text": [
            "Resultado:\n"
          ]
        },
        {
          "output_type": "execute_result",
          "data": {
            "text/plain": [
              "array([[ 0.2244898 , -0.01020408,  0.14285714],\n",
              "       [-0.14285714,  0.14285714,  0.        ],\n",
              "       [-0.34693878,  0.06122449,  0.14285714]])"
            ]
          },
          "metadata": {},
          "execution_count": 26
        }
      ]
    },
    {
      "cell_type": "markdown",
      "source": [
        "![image.png](data:image/png;base64,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)"
      ],
      "metadata": {
        "id": "lFF_R_6Uev8f"
      }
    },
    {
      "cell_type": "code",
      "source": [
        "B_1 = np.array([[2,-3,1],\n",
        "                [1,1,-2],\n",
        "                [-1,2,2]])\n",
        "\n",
        "print('Resultado:')\n",
        "np.linalg.inv(B_1)"
      ],
      "metadata": {
        "colab": {
          "base_uri": "https://localhost:8080/"
        },
        "id": "cLPHbd1VYtyg",
        "outputId": "385037e1-2570-4ed6-e3d3-3beeddc9d855"
      },
      "execution_count": null,
      "outputs": [
        {
          "output_type": "stream",
          "name": "stdout",
          "text": [
            "Resultado:\n"
          ]
        },
        {
          "output_type": "execute_result",
          "data": {
            "text/plain": [
              "array([[ 4.00000000e-01,  5.33333333e-01,  3.33333333e-01],\n",
              "       [-2.22044605e-17,  3.33333333e-01,  3.33333333e-01],\n",
              "       [ 2.00000000e-01, -6.66666667e-02,  3.33333333e-01]])"
            ]
          },
          "metadata": {},
          "execution_count": 27
        }
      ]
    },
    {
      "cell_type": "markdown",
      "source": [
        "![image.png](data:image/png;base64,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)"
      ],
      "metadata": {
        "id": "lkSqzm9PfqMg"
      }
    },
    {
      "cell_type": "code",
      "source": [
        "C_1 = np.array([[2,1,-2],\n",
        "                [1,1,-2],\n",
        "                [-1,0,1]])\n",
        "\n",
        "print('Resultado:')\n",
        "np.linalg.inv(C_1)"
      ],
      "metadata": {
        "id": "1-lui_4MU5Hp",
        "colab": {
          "base_uri": "https://localhost:8080/"
        },
        "outputId": "0538c16c-5403-4125-9c2e-b45043dfbff8"
      },
      "execution_count": null,
      "outputs": [
        {
          "output_type": "stream",
          "name": "stdout",
          "text": [
            "Resultado:\n"
          ]
        },
        {
          "output_type": "execute_result",
          "data": {
            "text/plain": [
              "array([[ 1., -1.,  0.],\n",
              "       [ 1.,  0.,  2.],\n",
              "       [ 1., -1.,  1.]])"
            ]
          },
          "metadata": {},
          "execution_count": 28
        }
      ]
    },
    {
      "cell_type": "markdown",
      "source": [
        "4. Encuentra la solución de los siguientes sistemas de ecuaciones lineales; el\n",
        "sistema a) mediante el método de Cramer, y b) mediante el método de la\n",
        "inversa:\n"
      ],
      "metadata": {
        "id": "4p7YhtuihkxJ"
      }
    },
    {
      "cell_type": "markdown",
      "source": [
        "![image.png](data:image/png;base64,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)"
      ],
      "metadata": {
        "id": "bM6FdCo_hmbt"
      }
    },
    {
      "cell_type": "code",
      "source": [
        "a_1 = np.array([[1,3,1],\n",
        "                [3,6,-1],\n",
        "                [2,4,1]])\n",
        "\n",
        "x_1 = np.array([[7,3,1],\n",
        "                [-1,6,-1],\n",
        "                [6,4,1]])\n",
        "\n",
        "y_1 = np.array([[1,7,1],\n",
        "                [3,-1,-1],\n",
        "                [2,6,1]])\n",
        "\n",
        "z_1 = np.array([[1,3,7],\n",
        "                [3,6,-1],\n",
        "                [2,4,6]])\n",
        "\n",
        "ecuaciones = x_1, y_1, z_1"
      ],
      "metadata": {
        "id": "M9G8As5phsTS"
      },
      "execution_count": null,
      "outputs": []
    },
    {
      "cell_type": "code",
      "source": [
        "deta_1= np.linalg.det(a_1)\n",
        "detx_1= np.linalg.det(x_1)\n",
        "dety_1= np.linalg.det(y_1)\n",
        "detz_1= np.linalg.det(z_1)\n",
        "determinantes = detx_1, dety_1, detz_1"
      ],
      "metadata": {
        "id": "J28buVgnlwAp"
      },
      "execution_count": null,
      "outputs": []
    },
    {
      "cell_type": "code",
      "source": [
        "print('Reulstado:')\n",
        "for i in determinantes:\n",
        "   sistema = round(i/deta_1, 5)\n",
        "   print(sistema)"
      ],
      "metadata": {
        "colab": {
          "base_uri": "https://localhost:8080/"
        },
        "id": "dth2KW2Lmr2Z",
        "outputId": "85b2140d-0587-4a5f-9fef-fa61f442cf5c"
      },
      "execution_count": null,
      "outputs": [
        {
          "output_type": "stream",
          "name": "stdout",
          "text": [
            "Reulstado:\n",
            "-3.0\n",
            "2.0\n",
            "4.0\n"
          ]
        }
      ]
    },
    {
      "cell_type": "markdown",
      "source": [
        "![image.png](data:image/png;base64,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)"
      ],
      "metadata": {
        "id": "exX_gZDSpCob"
      }
    },
    {
      "cell_type": "code",
      "source": [
        "a_2 =  np.array([[3,-2,3],\n",
        "                [1,3,-6],\n",
        "                [5,4,-2]])\n",
        "\n",
        "b_2 =  np.array([[16],\n",
        "                [-23],\n",
        "                [-9]])\n"
      ],
      "metadata": {
        "id": "-HdMNLqSo3bV"
      },
      "execution_count": null,
      "outputs": []
    },
    {
      "cell_type": "code",
      "source": [
        "inva_2 = np.linalg.inv(a_2)\n",
        "\n",
        "print('Resultado:')\n",
        "np.matmul(inva_2, b_2)\n"
      ],
      "metadata": {
        "colab": {
          "base_uri": "https://localhost:8080/"
        },
        "id": "su9I8I6Kt2Zw",
        "outputId": "ac846d49-2b8d-4044-aa17-7170efa5d464"
      },
      "execution_count": null,
      "outputs": [
        {
          "output_type": "stream",
          "name": "stdout",
          "text": [
            "Resultado:\n"
          ]
        },
        {
          "output_type": "execute_result",
          "data": {
            "text/plain": [
              "array([[ 1.],\n",
              "       [-2.],\n",
              "       [ 3.]])"
            ]
          },
          "metadata": {},
          "execution_count": 29
        }
      ]
    }
  ]
}