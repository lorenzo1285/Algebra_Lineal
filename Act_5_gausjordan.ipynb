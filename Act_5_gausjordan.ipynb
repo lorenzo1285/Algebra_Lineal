{
  "nbformat": 4,
  "nbformat_minor": 0,
  "metadata": {
    "colab": {
      "name": "Act_5_gausjordan.ipynb",
      "provenance": [],
      "authorship_tag": "ABX9TyMK2y8GdcJ7TTk7tezGzHp8",
      "include_colab_link": true
    },
    "kernelspec": {
      "name": "python3",
      "display_name": "Python 3"
    },
    "language_info": {
      "name": "python"
    }
  },
  "cells": [
    {
      "cell_type": "markdown",
      "metadata": {
        "id": "view-in-github",
        "colab_type": "text"
      },
      "source": [
        "<a href=\"https://colab.research.google.com/github/lorenzo1285/Algebra_lineal/blob/main/Act_5_gausjordan.ipynb\" target=\"_parent\"><img src=\"https://colab.research.google.com/assets/colab-badge.svg\" alt=\"Open In Colab\"/></a>"
      ]
    },
    {
      "cell_type": "code",
      "execution_count": null,
      "metadata": {
        "id": "sEVRGjnkWLZB"
      },
      "outputs": [],
      "source": [
        "import numpy as np\n",
        "from numpy import array, zeros, fabs, linalg"
      ]
    },
    {
      "cell_type": "code",
      "source": [
        "# Funcion de Metodo Gauss Jordan\n",
        "def gauss_jordan(a,b):\n",
        "\n",
        "  a = np.array(a, float)\n",
        "  b = np.array(b, float)\n",
        "  n = len(b)\n",
        "  x = zeros(n, float)\n",
        "\n",
        " #El primer bucle especifica la fila fija\n",
        "  for k in range(n-1):\n",
        "    if fabs(a[k,k]) < 1.0e-12:\n",
        "        \n",
        "        for i in range(k+1, n):\n",
        "            if fabs(a[i,k]) > fabs(a[k,k]):\n",
        "                a[[k,i]] = a[[i,k]]\n",
        "                b[[k,i]] = b[[i,k]]\n",
        "                break\n",
        "\n",
        " #aplica la eliminación por debajo de la fila fija\n",
        "\n",
        "    for i in range(k+1,n):\n",
        "        if a[i,k] == 0:continue\n",
        "\n",
        "        factor = a[k,k]/a[i,k]\n",
        "        for j in range(k,n):\n",
        "            a[i,j] = a[k,j] - a[i,j]*factor\n",
        "        \n",
        "        #Calculo del vector b en cada columna\n",
        "        b[i] = b[k] - b[i]*factor\n",
        "\n",
        "\n",
        "\n",
        "  x[n-1] = b[n-1] / a[n-1, n-1]\n",
        "  for i in range(n-2, -1, -1):\n",
        "    sum_ax = 0\n",
        "  \n",
        "    for j in range(i+1, n):\n",
        "        sum_ax += a[i,j] * x[j]\n",
        "        \n",
        "    x[i] = (b[i] - sum_ax) / a[i,i]\n",
        "\n",
        "  inv = linalg.inv(a)\n",
        "  array1 = np.matmul(a, inv)  \n",
        "  \n",
        "  print(\"La solución del sistema es:\")\n",
        "  print(x)\n",
        "  print('Matriz Identidad:')\n",
        "  print(array1)"
      ],
      "metadata": {
        "id": "7LtMV5IPXVxc"
      },
      "execution_count": null,
      "outputs": []
    },
    {
      "cell_type": "markdown",
      "source": [
        "Metodo de Gauss\n",
        "\n",
        "1.)\n",
        "\n",
        "2𝑥 + 𝑦 − 𝑧 = 8\n",
        "\n",
        "−3𝑥 − 𝑦 + 2𝑧 = −11\n",
        "\n",
        "−2𝑥 + 𝑦 + 2𝑧 = −3\n"
      ],
      "metadata": {
        "id": "SWYHfU_He_Xl"
      }
    },
    {
      "cell_type": "code",
      "source": [
        "g_a = np.array([[2,1,-1],\n",
        "                [-3,-1,2],\n",
        "                [-2,1,2]])\n",
        "g_b = np.array([[8],\n",
        "                [-11],\n",
        "                [-3]])"
      ],
      "metadata": {
        "id": "qbNbVGradlcf"
      },
      "execution_count": null,
      "outputs": []
    },
    {
      "cell_type": "code",
      "source": [
        "gauss_jordan(g_a, g_b)"
      ],
      "metadata": {
        "colab": {
          "base_uri": "https://localhost:8080/"
        },
        "id": "lANVyn11gbFa",
        "outputId": "628f98e2-c86e-4f5c-b92d-2e45a790811b"
      },
      "execution_count": null,
      "outputs": [
        {
          "output_type": "stream",
          "name": "stdout",
          "text": [
            "La solución del sistema es:\n",
            "[ 2.  3. -1.]\n",
            "Matriz Identidad:\n",
            "[[ 1.00000000e+00  0.00000000e+00  0.00000000e+00]\n",
            " [ 0.00000000e+00  1.00000000e+00 -1.48029737e-16]\n",
            " [ 0.00000000e+00  0.00000000e+00  1.00000000e+00]]\n"
          ]
        }
      ]
    },
    {
      "cell_type": "markdown",
      "source": [
        "\n",
        "2.)\n",
        "\n",
        "6𝑥1 − 2𝑥2 − 2𝑥3 = 8 \n",
        "\n",
        "2𝑥1 + 2𝑥2 + 𝑥3 = 3 \n",
        "\n",
        "𝑥1 + 2𝑥2 + 2𝑥3 = −1"
      ],
      "metadata": {
        "id": "ib4faZuGumt3"
      }
    },
    {
      "cell_type": "code",
      "source": [
        "g_a1 = np.array([[6,-2,-2],\n",
        "                 [2,2,1],\n",
        "                 [1,2,2]])\n",
        "\n",
        "g_b1 = np.array([[8],\n",
        "                 [3],\n",
        "                 [-1]])"
      ],
      "metadata": {
        "id": "UevRdPQMvth_"
      },
      "execution_count": null,
      "outputs": []
    },
    {
      "cell_type": "code",
      "source": [
        "gauss_jordan(g_a1, g_b1)"
      ],
      "metadata": {
        "colab": {
          "base_uri": "https://localhost:8080/"
        },
        "id": "WDdYl1KBweXs",
        "outputId": "24c85286-7ad4-44ac-95c6-44f77ec2dae7"
      },
      "execution_count": null,
      "outputs": [
        {
          "output_type": "stream",
          "name": "stdout",
          "text": [
            "La solución del sistema es:\n",
            "[ 1.  2. -3.]\n",
            "Matriz Identidad:\n",
            "[[ 1.00000000e+00  0.00000000e+00  0.00000000e+00]\n",
            " [ 0.00000000e+00  1.00000000e+00 -5.55111512e-17]\n",
            " [ 0.00000000e+00  0.00000000e+00  1.00000000e+00]]\n"
          ]
        }
      ]
    },
    {
      "cell_type": "markdown",
      "source": [
        "Metodo Gauss Jordan\n",
        "\n",
        "3.)\n",
        "\n",
        "3𝑥 + 2𝑦 + 𝑧 = 1\n",
        "\n",
        "5𝑥 + 3𝑦 + 4𝑧 = 2\n",
        "\n",
        "𝑥 + 𝑦 − 𝑧 = 1\n"
      ],
      "metadata": {
        "id": "msbLNBBKIXzD"
      }
    },
    {
      "cell_type": "code",
      "source": [
        "j_a = np.array([[3,2,1],\n",
        "                [5,3,4],\n",
        "                [1,1,-1]])\n",
        "\n",
        "j_b = np. array([[1],\n",
        "                 [2],\n",
        "                 [1]])"
      ],
      "metadata": {
        "id": "ew50yTFyIWm6"
      },
      "execution_count": null,
      "outputs": []
    },
    {
      "cell_type": "code",
      "source": [
        "gauss_jordan(j_a, j_b)"
      ],
      "metadata": {
        "colab": {
          "base_uri": "https://localhost:8080/"
        },
        "id": "tZRu7L39JLC7",
        "outputId": "f4c5bcb7-7e48-43f3-d33f-42a82daf41fa"
      },
      "execution_count": null,
      "outputs": [
        {
          "output_type": "stream",
          "name": "stdout",
          "text": [
            "La solución del sistema es:\n",
            "[-4.  6.  1.]\n",
            "Matriz Identidad:\n",
            "[[ 1.00000000e+00  0.00000000e+00 -1.11022302e-15]\n",
            " [ 0.00000000e+00  1.00000000e+00 -1.92438658e-16]\n",
            " [ 0.00000000e+00  0.00000000e+00  1.00000000e+00]]\n"
          ]
        }
      ]
    },
    {
      "cell_type": "markdown",
      "source": [
        "4.)\n",
        "\n",
        "2𝑥 − 𝑦 + 3𝑧 = −3\n",
        "\n",
        "𝑥 + 𝑦 + 𝑧 = 2\n",
        "\n",
        "3𝑥 + 2𝑦 − 𝑧 = 8\n"
      ],
      "metadata": {
        "id": "_oU1TU66Jo4T"
      }
    },
    {
      "cell_type": "code",
      "source": [
        "j_a1 = np.array([[2,-1,3],\n",
        "                 [1,1,1],\n",
        "                 [3,2,-1]])\n",
        "\n",
        "j_b1 = np.array([[-3],\n",
        "                 [2],\n",
        "                 [8]])"
      ],
      "metadata": {
        "id": "i3VYwF-oJ4Oc"
      },
      "execution_count": null,
      "outputs": []
    },
    {
      "cell_type": "code",
      "source": [
        "gauss_jordan(j_a1, j_b1)"
      ],
      "metadata": {
        "id": "W920zrGHKcYI",
        "outputId": "7780a1b7-d0fb-41da-d182-416c8ff504fe",
        "colab": {
          "base_uri": "https://localhost:8080/"
        }
      },
      "execution_count": null,
      "outputs": [
        {
          "output_type": "stream",
          "name": "stdout",
          "text": [
            "La solución del sistema es:\n",
            "[ 1.  2. -1.]\n",
            "Matriz Identidad:\n",
            "[[ 1.00000000e+00  0.00000000e+00  5.55111512e-17]\n",
            " [ 0.00000000e+00  1.00000000e+00 -5.55111512e-17]\n",
            " [ 0.00000000e+00  0.00000000e+00  1.00000000e+00]]\n"
          ]
        }
      ]
    }
  ]
}